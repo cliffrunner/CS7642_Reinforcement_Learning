{
 "cells": [
  {
   "cell_type": "code",
   "execution_count": 202,
   "metadata": {},
   "outputs": [],
   "source": [
    "import numpy as np\n",
    "from gym.envs.toy_text.frozen_lake import FrozenLakeEnv\n",
    "from tqdm import tqdm\n",
    "\n",
    "def convert_map(amap):\n",
    "    len_state = len(amap)\n",
    "    n = np.sqrt(len_state)\n",
    "    map_new = []\n",
    "    string = ''\n",
    "    i = 0\n",
    "    for s in amap:\n",
    "        string += s\n",
    "        i += 1\n",
    "        if i==n:\n",
    "            map_new.append(string)\n",
    "            i = 0\n",
    "            string = ''\n",
    "    return map_new\n",
    "\n",
    "action_map = {0:'<',1:'V',2:'>',3:'^'}\n",
    "\n",
    "# map_='SFFFHFFFFFFFFFFG'\n",
    "# gamma = 1.0\n",
    "# alpha = 0.25\n",
    "# epsilon = 0.29\n",
    "# n_episodes = 14697\n",
    "# seed = 741684\n",
    "amap='SFFHFFHFG'\n",
    "gamma=0.97\n",
    "alpha=0.27\n",
    "epsilon=0.18\n",
    "n_episodes=9211\n",
    "seed=968769"
   ]
  },
  {
   "cell_type": "code",
   "execution_count": 203,
   "metadata": {
    "scrolled": false
   },
   "outputs": [
    {
     "name": "stderr",
     "output_type": "stream",
     "text": [
      "100%|████████████████████████████████████████████████████████████████████████████| 9211/9211 [00:01<00:00, 5490.58it/s]\n"
     ]
    },
    {
     "name": "stdout",
     "output_type": "stream",
     "text": [
      "^,>,>,<,>,V,<,^,<,\n"
     ]
    }
   ],
   "source": [
    "np.random.seed(seed)\n",
    "\n",
    "map_converted = convert_map(amap=amap)\n",
    "\n",
    "env = FrozenLakeEnv(desc=map_converted, is_slippery=True).unwrapped\n",
    "env.seed(seed)\n",
    "\n",
    "n_actions = env.action_space.n\n",
    "\n",
    "def epsilon_greedy(Q, s, epsilon, n_actions):\n",
    "    if np.random.random() > epsilon:\n",
    "        action = np.argmax(Q[s,:])\n",
    "    else:\n",
    "        action = np.random.randint(0, n_actions)\n",
    "    return action\n",
    "\n",
    "def initialize_q(states, n_actions):\n",
    "    return np.zeros(shape=(len(states), n_actions))\n",
    "\n",
    "Q = initialize_q(states=amap, n_actions=4)\n",
    "for episode in tqdm(range(n_episodes)):\n",
    "#     env.seed(seed)\n",
    "    state = env.reset()\n",
    "#     env.seed(seed)\n",
    "    action = epsilon_greedy(Q=Q, \n",
    "                            s=state, \n",
    "                            epsilon=epsilon, \n",
    "                            n_actions=n_actions)\n",
    "    for t in range(1000):\n",
    "        state_next, reward, done, _ = env.step(action)\n",
    "        action_next = epsilon_greedy(Q=Q, \n",
    "                                      s=state_next, \n",
    "                                      epsilon=epsilon, \n",
    "                                      n_actions=n_actions)\n",
    "\n",
    "        if done==True:\n",
    "            Q[state,action] += alpha*(reward-Q[state,action])\n",
    "            break\n",
    "        else:\n",
    "            Q[state,action] += alpha*(reward+gamma*Q[state_next,action_next]-Q[state,action])\n",
    "        state = state_next\n",
    "        action = action_next\n",
    "\n",
    "action_render = ''\n",
    "for _ in Q:\n",
    "    action_render += action_map[np.argmax(_)]+','\n",
    "\n",
    "print(action_render)"
   ]
  }
 ],
 "metadata": {
  "kernelspec": {
   "display_name": "Python 3",
   "language": "python",
   "name": "python3"
  },
  "language_info": {
   "codemirror_mode": {
    "name": "ipython",
    "version": 3
   },
   "file_extension": ".py",
   "mimetype": "text/x-python",
   "name": "python",
   "nbconvert_exporter": "python",
   "pygments_lexer": "ipython3",
   "version": "3.6.5"
  },
  "toc": {
   "base_numbering": 1,
   "nav_menu": {},
   "number_sections": true,
   "sideBar": true,
   "skip_h1_title": false,
   "title_cell": "Table of Contents",
   "title_sidebar": "Contents",
   "toc_cell": false,
   "toc_position": {},
   "toc_section_display": true,
   "toc_window_display": false
  }
 },
 "nbformat": 4,
 "nbformat_minor": 2
}
