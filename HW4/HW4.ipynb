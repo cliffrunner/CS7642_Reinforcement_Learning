{
 "cells": [
  {
   "cell_type": "code",
   "execution_count": 7,
   "metadata": {},
   "outputs": [],
   "source": [
    "import numpy as np\n",
    "import gym\n",
    "from tqdm import tqdm\n",
    "\n",
    "env = gym.make('Taxi-v2')\n",
    "\n",
    "sa_pairs = [[462,4],[398,3],[253,0],[377,1],[83,5]]\n",
    "\n",
    "n_states = env.observation_space.n\n",
    "n_actions = env.action_space.n"
   ]
  },
  {
   "cell_type": "code",
   "execution_count": 42,
   "metadata": {
    "scrolled": true
   },
   "outputs": [
    {
     "name": "stderr",
     "output_type": "stream",
     "text": [
      "100%|█████████████████████████████████████████████████████████████████████████| 500000/500000 [09:41<00:00, 859.20it/s]\n"
     ]
    },
    {
     "name": "stdout",
     "output_type": "stream",
     "text": [
      "-11.374425404734389\n",
      "4.348906999999983\n",
      "-0.5856821173000126\n",
      "9.682999999999982\n",
      "-12.823266037160543\n"
     ]
    }
   ],
   "source": [
    "gamma = 0.9\n",
    "epsilon = 0.7\n",
    "alpha = 0.2\n",
    "n_episodes = 500000\n",
    "max_step = 1000\n",
    "\n",
    "def epsilon_greedy(Q, s, epsilon, n_actions):\n",
    "    if np.random.random() > epsilon:\n",
    "        action = np.argmax(Q[s,:])\n",
    "    else:\n",
    "        action = np.random.randint(0, n_actions)\n",
    "    return action\n",
    "\n",
    "def initialize_q(n_states, n_actions):\n",
    "    return np.ones(shape=(n_states, n_actions))\n",
    "\n",
    "Q = initialize_q(n_states=n_states, n_actions=n_actions)\n",
    "for episode in tqdm(range(n_episodes)):\n",
    "    state = env.reset()\n",
    "    for t in range(max_step):\n",
    "        action = epsilon_greedy(Q=Q, \n",
    "                        s=state, \n",
    "                        epsilon=epsilon, \n",
    "                        n_actions=n_actions)\n",
    "        state_next, reward, done, _ = env.step(action)\n",
    "\n",
    "        if done==True:\n",
    "            Q[state,action] += alpha*(reward-Q[state,action])\n",
    "            break\n",
    "        else:\n",
    "            Q[state,action] += alpha*(reward+gamma*np.max(Q[state_next,:])-Q[state,action])\n",
    "        state = state_next\n",
    "\n",
    "for pair in sa_pairs:\n",
    "    print(Q[pair[0], pair[1]])"
   ]
  },
  {
   "cell_type": "code",
   "execution_count": 52,
   "metadata": {},
   "outputs": [
    {
     "data": {
      "text/plain": [
       "4.348906999999983"
      ]
     },
     "execution_count": 52,
     "metadata": {},
     "output_type": "execute_result"
    }
   ],
   "source": [
    "Q[122,1]"
   ]
  },
  {
   "cell_type": "code",
   "execution_count": 44,
   "metadata": {},
   "outputs": [
    {
     "name": "stdout",
     "output_type": "stream",
     "text": [
      "-11.374391377173403\n",
      "-1.7399781319306482\n",
      "-0.585683799531737\n",
      "9.68299999999997\n",
      "-12.823262478183327\n"
     ]
    }
   ],
   "source": [
    "-11:374402515\n",
    "4:348907\n",
    "-0:5856821173\n",
    "9:683\n",
    "-12:8232660372"
   ]
  }
 ],
 "metadata": {
  "kernelspec": {
   "display_name": "Python 3",
   "language": "python",
   "name": "python3"
  },
  "language_info": {
   "codemirror_mode": {
    "name": "ipython",
    "version": 3
   },
   "file_extension": ".py",
   "mimetype": "text/x-python",
   "name": "python",
   "nbconvert_exporter": "python",
   "pygments_lexer": "ipython3",
   "version": "3.6.5"
  },
  "toc": {
   "base_numbering": 1,
   "nav_menu": {},
   "number_sections": true,
   "sideBar": true,
   "skip_h1_title": false,
   "title_cell": "Table of Contents",
   "title_sidebar": "Contents",
   "toc_cell": false,
   "toc_position": {},
   "toc_section_display": true,
   "toc_window_display": false
  }
 },
 "nbformat": 4,
 "nbformat_minor": 2
}
