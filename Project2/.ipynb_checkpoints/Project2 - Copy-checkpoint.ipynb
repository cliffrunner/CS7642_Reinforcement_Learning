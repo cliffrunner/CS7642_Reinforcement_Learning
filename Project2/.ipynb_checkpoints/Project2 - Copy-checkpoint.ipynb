{
 "cells": [
  {
   "cell_type": "code",
   "execution_count": 8,
   "metadata": {},
   "outputs": [],
   "source": [
    "import numpy as np\n",
    "import gym\n",
    "import os\n",
    "import copy\n",
    "import itertools\n",
    "import matplotlib.pyplot as plt\n",
    "\n",
    "from keras.models import Sequential\n",
    "from keras.layers import Dense, Dropout\n",
    "from keras.optimizers import Adam\n",
    "\n",
    "from tqdm import tqdm\n",
    "from sklearn.preprocessing import StandardScaler\n",
    "from collections import deque\n",
    "env = gym.make('LunarLander-v2')\n",
    "\n",
    "os.makedirs('outputs', exist_ok=True)\n",
    "\n",
    "gamma = 0.99\n",
    "epsilon = 1\n",
    "d_epsilon = 0.998\n",
    "alpha = 0.2\n",
    "n_episodes = 500\n",
    "max_step = 1000\n",
    "history_len = int(1e5)\n",
    "n_states = env.observation_space.shape[0]\n",
    "n_actions = env.action_space.n"
   ]
  },
  {
   "cell_type": "code",
   "execution_count": 2,
   "metadata": {},
   "outputs": [],
   "source": [
    "class DLModel(object):\n",
    "    def initialize_model(self, \n",
    "                         activation='sigmoid', \n",
    "                         n_inputs=8, \n",
    "                         n_outputs=4, \n",
    "                         loss='mean_squared_error',\n",
    "                         optimizer=Adam(lr=0.01)):\n",
    "        model = Sequential()\n",
    "        model.add(Dense(64, input_dim=n_inputs, activation=activation))\n",
    "#         self.model.add(Dense(64, activation=activation))\n",
    "        model.add(Dense(64, activation=activation))\n",
    "        model.add(Dense(n_outputs, activation=activation))\n",
    "        model.compile(loss=loss, optimizer=optimizer)\n",
    "        return model\n",
    "#     def get_weights(self):\n",
    "#         return self.model.get_weights()\n",
    "#     def set_weights(self, weights):\n",
    "#         self.model.set_weights(weights)"
   ]
  },
  {
   "cell_type": "code",
   "execution_count": 6,
   "metadata": {},
   "outputs": [],
   "source": [
    "class Agent(DLModel):\n",
    "    def __init__(self, gamma, epsilon, d_epsilon, alpha, n_actions, n_states, history_len):\n",
    "        self.gamma = gamma\n",
    "        self.epsilon = epsilon\n",
    "        self.alpha = alpha\n",
    "        self.n_actions = n_actions\n",
    "        self.n_states = n_states\n",
    "        self.history = deque(maxlen=history_len)\n",
    "#         self.model = copy.deepcopy(model)\n",
    "#         self.target_model = copy.deepcopy(model)\n",
    "        self.n = 0\n",
    "        self.model = self.initialize_model(n_inputs=self.n_states, n_outputs=self.n_actions)\n",
    "        self.target_model = self.initialize_model(n_inputs=self.n_states, n_outputs=self.n_actions)\n",
    "    def soft_weight_update(self, tau):\n",
    "        target_weights = self.target_model.get_weights()\n",
    "        weights = self.model.get_weights()\n",
    "        for i in range(len(target_weights)):\n",
    "            target_weights[i] = (1-tau)*target_weights[i] + tau*weights[i]\n",
    "        self.target_model.set_weights(weights=target_weights)\n",
    "    def epsilon_decay(self):\n",
    "        self.epsilon *= d_epsilon\n",
    "        if self.epsilon <= 0.05: \n",
    "            self.epsilon==0.05\n",
    "        pass\n",
    "    def select_action(self, s):\n",
    "        s = s.reshape(1,-1)\n",
    "        if np.random.random() > self.epsilon:\n",
    "            action = np.argmax(self.target_model.predict(s))\n",
    "        else:\n",
    "            action = np.random.randint(0, self.n_actions)\n",
    "        return action\n",
    "    def append_history(self, state, action, reward, state_next, done):\n",
    "        self.history.append([state, action, reward, state_next, done])\n",
    "    def fit(self, train_set_size=20, steps=5):\n",
    "        self.n += 1\n",
    "        if self.n%steps!=0: \n",
    "            return\n",
    "        \n",
    "        if len(self.history)<train_set_size: \n",
    "            return\n",
    "        \n",
    "        actualQ = np.zeros((train_set_size,self.n_actions))\n",
    "        Q = np.zeros((train_set_size,self.n_actions))\n",
    "        idx = np.random.choice(np.array(len(self.history)), size=train_set_size, replace=False)\n",
    "        history = [self.history[_] for _ in idx]\n",
    "        States = np.array([_[0] for _ in history])\n",
    "        actions = []\n",
    "        idx = []\n",
    "        for i, stuff in enumerate(history):\n",
    "            idx.append(i)\n",
    "            action = stuff[1]\n",
    "            actions.append(action)\n",
    "            reward = stuff[2]\n",
    "            state_next = stuff[3]\n",
    "            if done:\n",
    "                actualQ[i, action] = reward\n",
    "            else:\n",
    "                actualQ[i, action] = \\\n",
    "                reward + \\\n",
    "                self.gamma*np.max(self.target_model.predict(state_next.reshape(1,-1)))\n",
    "        Q = self.model.predict(States)\n",
    "        items = np.array(list(zip(idx,actions)))\n",
    "        Q[items] = 0\n",
    "        Q += actualQ\n",
    "        self.model.fit(States, Q, epochs=1, verbose=0)\n",
    "        self.soft_weight_update(tau=0.001)"
   ]
  },
  {
   "cell_type": "code",
   "execution_count": 7,
   "metadata": {
    "scrolled": true
   },
   "outputs": [
    {
     "ename": "NameError",
     "evalue": "name 'Adam' is not defined",
     "output_type": "error",
     "traceback": [
      "\u001b[1;31m---------------------------------------------------------------------------\u001b[0m",
      "\u001b[1;31mNameError\u001b[0m                                 Traceback (most recent call last)",
      "\u001b[1;32m<ipython-input-7-74183bde095e>\u001b[0m in \u001b[0;36m<module>\u001b[1;34m()\u001b[0m\n\u001b[0;32m      7\u001b[0m              \u001b[0mn_states\u001b[0m\u001b[1;33m=\u001b[0m\u001b[0mn_states\u001b[0m\u001b[1;33m,\u001b[0m\u001b[1;33m\u001b[0m\u001b[0m\n\u001b[0;32m      8\u001b[0m              \u001b[0mn_actions\u001b[0m\u001b[1;33m=\u001b[0m\u001b[0mn_actions\u001b[0m\u001b[1;33m,\u001b[0m\u001b[1;33m\u001b[0m\u001b[0m\n\u001b[1;32m----> 9\u001b[1;33m              history_len=history_len)\n\u001b[0m\u001b[0;32m     10\u001b[0m \u001b[1;33m\u001b[0m\u001b[0m\n\u001b[0;32m     11\u001b[0m \u001b[0mRewards\u001b[0m \u001b[1;33m=\u001b[0m \u001b[1;33m[\u001b[0m\u001b[1;33m]\u001b[0m\u001b[1;33m\u001b[0m\u001b[0m\n",
      "\u001b[1;32m<ipython-input-6-c6bba467fc2d>\u001b[0m in \u001b[0;36m__init__\u001b[1;34m(self, gamma, epsilon, d_epsilon, alpha, n_actions, n_states, history_len)\u001b[0m\n\u001b[0;32m     10\u001b[0m \u001b[1;31m#         self.target_model = copy.deepcopy(model)\u001b[0m\u001b[1;33m\u001b[0m\u001b[1;33m\u001b[0m\u001b[0m\n\u001b[0;32m     11\u001b[0m         \u001b[0mself\u001b[0m\u001b[1;33m.\u001b[0m\u001b[0mn\u001b[0m \u001b[1;33m=\u001b[0m \u001b[1;36m0\u001b[0m\u001b[1;33m\u001b[0m\u001b[0m\n\u001b[1;32m---> 12\u001b[1;33m         \u001b[0mself\u001b[0m\u001b[1;33m.\u001b[0m\u001b[0mmodel\u001b[0m \u001b[1;33m=\u001b[0m \u001b[0mself\u001b[0m\u001b[1;33m.\u001b[0m\u001b[0minitialize_model\u001b[0m\u001b[1;33m(\u001b[0m\u001b[0mn_inputs\u001b[0m\u001b[1;33m=\u001b[0m\u001b[0mself\u001b[0m\u001b[1;33m.\u001b[0m\u001b[0mn_states\u001b[0m\u001b[1;33m,\u001b[0m \u001b[0mn_outputs\u001b[0m\u001b[1;33m=\u001b[0m\u001b[0mself\u001b[0m\u001b[1;33m.\u001b[0m\u001b[0mn_actions\u001b[0m\u001b[1;33m)\u001b[0m\u001b[1;33m\u001b[0m\u001b[0m\n\u001b[0m\u001b[0;32m     13\u001b[0m         \u001b[0mself\u001b[0m\u001b[1;33m.\u001b[0m\u001b[0mtarget_model\u001b[0m \u001b[1;33m=\u001b[0m \u001b[0mself\u001b[0m\u001b[1;33m.\u001b[0m\u001b[0minitialize_model\u001b[0m\u001b[1;33m(\u001b[0m\u001b[0mn_inputs\u001b[0m\u001b[1;33m=\u001b[0m\u001b[0mself\u001b[0m\u001b[1;33m.\u001b[0m\u001b[0mn_states\u001b[0m\u001b[1;33m,\u001b[0m \u001b[0mn_outputs\u001b[0m\u001b[1;33m=\u001b[0m\u001b[0mself\u001b[0m\u001b[1;33m.\u001b[0m\u001b[0mn_actions\u001b[0m\u001b[1;33m)\u001b[0m\u001b[1;33m\u001b[0m\u001b[0m\n\u001b[0;32m     14\u001b[0m     \u001b[1;32mdef\u001b[0m \u001b[0msoft_weight_update\u001b[0m\u001b[1;33m(\u001b[0m\u001b[0mself\u001b[0m\u001b[1;33m,\u001b[0m \u001b[0mtau\u001b[0m\u001b[1;33m)\u001b[0m\u001b[1;33m:\u001b[0m\u001b[1;33m\u001b[0m\u001b[0m\n",
      "\u001b[1;32m<ipython-input-2-87e858066b6d>\u001b[0m in \u001b[0;36minitialize_model\u001b[1;34m(self, activation, n_inputs, n_outputs, loss, optimizer)\u001b[0m\n\u001b[0;32m     11\u001b[0m         \u001b[0mmodel\u001b[0m\u001b[1;33m.\u001b[0m\u001b[0madd\u001b[0m\u001b[1;33m(\u001b[0m\u001b[0mDense\u001b[0m\u001b[1;33m(\u001b[0m\u001b[1;36m64\u001b[0m\u001b[1;33m,\u001b[0m \u001b[0mactivation\u001b[0m\u001b[1;33m=\u001b[0m\u001b[0mactivation\u001b[0m\u001b[1;33m)\u001b[0m\u001b[1;33m)\u001b[0m\u001b[1;33m\u001b[0m\u001b[0m\n\u001b[0;32m     12\u001b[0m         \u001b[0mmodel\u001b[0m\u001b[1;33m.\u001b[0m\u001b[0madd\u001b[0m\u001b[1;33m(\u001b[0m\u001b[0mDense\u001b[0m\u001b[1;33m(\u001b[0m\u001b[0mn_outputs\u001b[0m\u001b[1;33m,\u001b[0m \u001b[0mactivation\u001b[0m\u001b[1;33m=\u001b[0m\u001b[0mactivation\u001b[0m\u001b[1;33m)\u001b[0m\u001b[1;33m)\u001b[0m\u001b[1;33m\u001b[0m\u001b[0m\n\u001b[1;32m---> 13\u001b[1;33m         \u001b[0mmodel\u001b[0m\u001b[1;33m.\u001b[0m\u001b[0mcompile\u001b[0m\u001b[1;33m(\u001b[0m\u001b[0mloss\u001b[0m\u001b[1;33m=\u001b[0m\u001b[0mloss\u001b[0m\u001b[1;33m,\u001b[0m \u001b[0moptimizer\u001b[0m\u001b[1;33m=\u001b[0m\u001b[0mAdam\u001b[0m\u001b[1;33m(\u001b[0m\u001b[0mlr\u001b[0m\u001b[1;33m=\u001b[0m\u001b[1;36m0.01\u001b[0m\u001b[1;33m)\u001b[0m\u001b[1;33m)\u001b[0m\u001b[1;33m\u001b[0m\u001b[0m\n\u001b[0m\u001b[0;32m     14\u001b[0m         \u001b[1;32mreturn\u001b[0m \u001b[0mmodel\u001b[0m\u001b[1;33m\u001b[0m\u001b[0m\n\u001b[0;32m     15\u001b[0m \u001b[1;31m#     def get_weights(self):\u001b[0m\u001b[1;33m\u001b[0m\u001b[1;33m\u001b[0m\u001b[0m\n",
      "\u001b[1;31mNameError\u001b[0m: name 'Adam' is not defined"
     ]
    }
   ],
   "source": [
    "# dlmodel = DLModel()\n",
    "# dlmodel.initialize_model(n_inputs=n_states, n_outputs=n_actions)\n",
    "agent = Agent(gamma=gamma,\n",
    "             epsilon=epsilon,\n",
    "             d_epsilon=d_epsilon,\n",
    "             alpha=alpha,\n",
    "             n_states=n_states,\n",
    "             n_actions=n_actions,\n",
    "             history_len=history_len)\n",
    "\n",
    "Rewards = []\n",
    "for episode in range(n_episodes):\n",
    "    total_reward = 0\n",
    "    state = env.reset()\n",
    "    agent.epsilon_decay()\n",
    "    for t in range(max_step):\n",
    "#         env.render()\n",
    "        action = agent.select_action(state)\n",
    "        state_next, reward, done, _ = env.step(action)\n",
    "        total_reward += reward\n",
    "        agent.append_history(state, action, reward, state_next, done)\n",
    "        agent.fit(train_set_size=32, steps=5)\n",
    "        state = state_next\n",
    "        if done: \n",
    "            Rewards.append(total_reward)\n",
    "            print('episode: {}, epsilon: {:.3f}, total rewards: {:.0f}'.format(episode, agent.epsilon, total_reward))\n",
    "            if total_reward>200:\n",
    "                agent.model.save('output/episode{}.pkl'.format(episode))\n",
    "            break"
   ]
  },
  {
   "cell_type": "code",
   "execution_count": 128,
   "metadata": {},
   "outputs": [
    {
     "data": {
      "text/plain": [
       "[<matplotlib.lines.Line2D at 0x18628a9ea90>]"
      ]
     },
     "execution_count": 128,
     "metadata": {},
     "output_type": "execute_result"
    },
    {
     "data": {
      "image/png": "[encoded data removed]",
      "text/plain": [
       "<Figure size 432x288 with 1 Axes>"
      ]
     },
     "metadata": {},
     "output_type": "display_data"
    }
   ],
   "source": [
    "plt.plot(Rewards)"
   ]
  }
 ],
 "metadata": {
  "kernelspec": {
   "display_name": "Python 3",
   "language": "python",
   "name": "python3"
  },
  "language_info": {
   "codemirror_mode": {
    "name": "ipython",
    "version": 3
   },
   "file_extension": ".py",
   "mimetype": "text/x-python",
   "name": "python",
   "nbconvert_exporter": "python",
   "pygments_lexer": "ipython3",
   "version": "3.6.5"
  },
  "toc": {
   "base_numbering": 1,
   "nav_menu": {},
   "number_sections": true,
   "sideBar": true,
   "skip_h1_title": false,
   "title_cell": "Table of Contents",
   "title_sidebar": "Contents",
   "toc_cell": false,
   "toc_position": {},
   "toc_section_display": true,
   "toc_window_display": false
  }
 },
 "nbformat": 4,
 "nbformat_minor": 2
}
