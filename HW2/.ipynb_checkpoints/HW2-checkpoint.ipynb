{
 "cells": [
  {
   "cell_type": "code",
   "execution_count": 15,
   "metadata": {},
   "outputs": [
    {
     "data": {
      "text/plain": [
       "array([0.21381888, 0.21381888, 0.21381887, 0.21381887, 0.21381888,\n",
       "       0.21381888, 0.21381888, 1.        , 1.        , 1.        ])"
      ]
     },
     "execution_count": 15,
     "metadata": {},
     "output_type": "execute_result"
    }
   ],
   "source": [
    "import numpy as np\n",
    "from scipy.optimize import fsolve\n",
    "\n",
    "def cal_TDlambda(proba=0.5, r=None, v=None, _lambda=0.5):\n",
    "    assert r is not None\n",
    "    assert v is not None\n",
    "    \n",
    "    E1 = (1-_lambda)*(\n",
    "        v[0] + proba*(r[0]+v[1]-v[0]) + (1-proba)*(r[1]+v[2]-v[0])\n",
    "    )\n",
    "    E2 = _lambda*(1-_lambda)*(\n",
    "        v[0] + proba*(r[0]+r[2]+v[2]-v[0]) + (1-proba)*(r[1]+r[3]+v[3]-v[0])\n",
    "    )\n",
    "    E3 = _lambda**2*(1-_lambda)*(\n",
    "        v[0] + proba*(r[0]+r[2]+r[4]+v[4]-v[0]) + (1-proba)*(r[1]+r[3]+r[4]+v[4]-v[0])\n",
    "    )\n",
    "    E4 = _lambda**3*(1-_lambda)*(\n",
    "        v[0] + proba*(r[0]+r[2]+r[4]+r[5]+v[5]-v[0]) + (1-proba)*(r[1]+r[3]+r[4]+r[5]+v[5]-v[0])\n",
    "    )\n",
    "    E5 = _lambda**4*(1-_lambda)*(\n",
    "        v[0] + proba*(r[0]+r[2]+r[4]+r[5]+r[6]+v[6]-v[0]) + (1-proba)*(r[1]+r[3]+r[4]+r[5]+r[6]+v[6]-v[0])\n",
    "    )\n",
    "    Einf = (1-(1-_lambda)*(1+_lambda+_lambda**2+_lambda**3+_lambda**4))*(\n",
    "        v[0] + proba*(r[0]+r[2]+r[4]+r[5]+r[6]+v[6]) + (1-proba)*(r[1]+r[3]+r[4]+r[5]+r[6]+v[6])\n",
    "    )\n",
    "    \n",
    "    return E1 + E2 + E3 + E4 + E5 + Einf\n",
    "\n",
    "v = [0.0, -5.2, 0.0, 25.4, 10.6, 9.2, 12.3]\n",
    "r = [-2.4, 0.8, 4.0, 2.5, 8.6, -6.4, 6.1]\n",
    "proba = 0.81\n",
    "fsolve(lambda x: cal_TDlambda(proba=proba, v=v, r=r, _lambda=x)-cal_TDlambda(proba=proba, v=v, r=r, _lambda=1), np.linspace(0.1,1,10))"
   ]
  },
  {
   "cell_type": "code",
   "execution_count": 14,
   "metadata": {},
   "outputs": [
    {
     "data": {
      "text/plain": [
       "13.553"
      ]
     },
     "execution_count": 14,
     "metadata": {},
     "output_type": "execute_result"
    }
   ],
   "source": [
    "cal_TDlambda(proba=proba, v=v, r=r, _lambda=0)"
   ]
  },
  {
   "cell_type": "code",
   "execution_count": 13,
   "metadata": {},
   "outputs": [
    {
     "data": {
      "text/plain": [
       "21.577194388130675"
      ]
     },
     "execution_count": 13,
     "metadata": {},
     "output_type": "execute_result"
    }
   ],
   "source": [
    "cal_TDlambda(proba=proba, v=v, r=r, _lambda=0.6227)"
   ]
  },
  {
   "cell_type": "code",
   "execution_count": null,
   "metadata": {},
   "outputs": [],
   "source": [
    "vs0 = vs['vs0'] + probToState*(rewards[0]+1*vs['vs1']-vs['vs0']) +\\\n",
    "                (1-probToState)*(rewards[1]+vs['vs2']-vs['vs0'])"
   ]
  },
  {
   "cell_type": "code",
   "execution_count": 1,
   "metadata": {},
   "outputs": [
    {
     "data": {
      "text/plain": [
       "(16.687, 13.1, 3.3999999999999995, 10.6, 1.6, 1.6)"
      ]
     },
     "execution_count": 1,
     "metadata": {},
     "output_type": "execute_result"
    }
   ],
   "source": [
    "def getTD1(probToState1, rewards):\n",
    "    VS6 = 0\n",
    "    VS5 = VS6 + rewards[6]\n",
    "    VS4 = VS5 + rewards[5]\n",
    "    VS3 = VS4 + rewards[4]\n",
    "    \n",
    "    VS2 = VS3 + rewards[3]\n",
    "    VS1 = VS3 + rewards[2]\n",
    "    \n",
    "    VS0 = probToState1 * (VS1 + rewards[0]) + (1 - probToState1) * (VS2 + rewards[1])\n",
    "    \n",
    "    return VS0, VS1, VS2, VS3, VS4, VS5\n",
    "\n",
    "getTD1(0.81, [7.9, -5.1, 2.5, -7.2, 9.0, 0.0, 1.6])"
   ]
  },
  {
   "cell_type": "code",
   "execution_count": 20,
   "metadata": {},
   "outputs": [
    {
     "data": {
      "text/plain": [
       "13.553"
      ]
     },
     "execution_count": 20,
     "metadata": {},
     "output_type": "execute_result"
    }
   ],
   "source": [
    "import numpy as np\n",
    "from scipy.optimize import fsolve\n",
    "class TD_lambda:\n",
    "    def __init__(self, probToState,valueEstimates,rewards):\n",
    "        self.probToState = probToState\n",
    "        self.valueEstimates = valueEstimates\n",
    "        self.rewards = rewards\n",
    "        self.td1 = self.get_vs0(1)\n",
    "    def get_vs0(self,lambda_):\n",
    "        probToState = self.probToState\n",
    "        valueEstimates = self.valueEstimates\n",
    "        rewards = self.rewards\n",
    "        vs = dict(zip(['vs0','vs1','vs2','vs3','vs4','vs5','vs6'],list(valueEstimates)))\n",
    "\n",
    "        vs5 = vs['vs5'] + 1*(rewards[6]+1*vs['vs6']-vs['vs5'])\n",
    "        vs4 = vs['vs4'] + 1*(rewards[5]+lambda_*rewards[6]+lambda_*vs['vs6']+(1-lambda_)*vs['vs5']-vs['vs4'])\n",
    "        vs3 = vs['vs3'] + 1*(rewards[4]+lambda_*rewards[5]+lambda_**2*rewards[6]+lambda_**2*vs['vs6']+lambda_*(1-lambda_)*vs['vs5']+(1-lambda_)*vs['vs4']-vs['vs3'])\n",
    "        vs1 = vs['vs1'] + 1*(rewards[2]+lambda_*rewards[4]+lambda_**2*rewards[5]+lambda_**3*rewards[6]+lambda_**3*vs['vs6']+lambda_**2*(1-lambda_)*vs['vs5']+lambda_*(1-lambda_)*vs['vs4']+\\\n",
    "                             (1-lambda_)*vs['vs3']-vs['vs1'])\n",
    "        vs2 = vs['vs2'] + 1*(rewards[3]+lambda_*rewards[4]+lambda_**2*rewards[5]+lambda_**3*rewards[6]+lambda_**3*vs['vs6']+lambda_**2*(1-lambda_)*vs['vs5']+lambda_*(1-lambda_)*vs['vs4']+\\\n",
    "                             (1-lambda_)*vs['vs3']-vs['vs2'])\n",
    "        vs0 = vs['vs0'] + probToState*(rewards[0]+lambda_*rewards[2]+lambda_**2*rewards[4]+lambda_**3*rewards[5]+lambda_**4*rewards[6]+lambda_**4*vs['vs6']+lambda_**3*(1-lambda_)*vs['vs5']+\\\n",
    "                                       +lambda_**2*(1-lambda_)*vs['vs4']+lambda_*(1-lambda_)*vs['vs3']+(1-lambda_)*vs['vs1']-vs['vs0']) +\\\n",
    "                (1-probToState)*(rewards[1]+lambda_*rewards[3]+lambda_**2*rewards[4]+lambda_**3*rewards[5]+lambda_**4*rewards[6]+lambda_**4*vs['vs6']+lambda_**3*(1-lambda_)*vs['vs5']+\\\n",
    "                                       +lambda_**2*(1-lambda_)*vs['vs4']+lambda_*(1-lambda_)*vs['vs3']+(1-lambda_)*vs['vs2']-vs['vs0'])\n",
    "        return vs0\n",
    "    def get_lambda(self,x0=np.linspace(0.1,1,10)):\n",
    "        return fsolve(lambda lambda_:self.get_vs0(lambda_)-self.td1, x0)\n",
    "\n",
    "TD = TD_lambda(probToState=0.81,\n",
    "               valueEstimates=v,\n",
    "               rewards=r)\n",
    "TD.get_vs0(lambda_=0)"
   ]
  },
  {
   "cell_type": "code",
   "execution_count": 5,
   "metadata": {},
   "outputs": [
    {
     "data": {
      "text/plain": [
       "array([4.26442997])"
      ]
     },
     "execution_count": 5,
     "metadata": {},
     "output_type": "execute_result"
    }
   ],
   "source": [
    "from scipy.optimize import fsolve\n",
    "def f(x):\n",
    "    return x**3+x**2+x-100\n",
    "\n",
    "fsolve(f, 0)"
   ]
  }
 ],
 "metadata": {
  "kernelspec": {
   "display_name": "Python 3",
   "language": "python",
   "name": "python3"
  },
  "language_info": {
   "codemirror_mode": {
    "name": "ipython",
    "version": 3
   },
   "file_extension": ".py",
   "mimetype": "text/x-python",
   "name": "python",
   "nbconvert_exporter": "python",
   "pygments_lexer": "ipython3",
   "version": "3.6.5"
  },
  "toc": {
   "base_numbering": 1,
   "nav_menu": {},
   "number_sections": true,
   "sideBar": true,
   "skip_h1_title": false,
   "title_cell": "Table of Contents",
   "title_sidebar": "Contents",
   "toc_cell": false,
   "toc_position": {},
   "toc_section_display": true,
   "toc_window_display": false
  }
 },
 "nbformat": 4,
 "nbformat_minor": 2
}
