{
 "cells": [
  {
   "cell_type": "code",
   "execution_count": 93,
   "metadata": {},
   "outputs": [
    {
     "name": "stdout",
     "output_type": "stream",
     "text": [
      "0.476\n"
     ]
    }
   ],
   "source": [
    "import numpy as np\n",
    "import math\n",
    "from scipy.optimize import fsolve\n",
    "\n",
    "def truncate(f, n):\n",
    "    return math.floor(f * 10 ** n) / 10 ** n\n",
    "\n",
    "def cal_TDlambda(proba=0.5, r=None, v=None, _lambda=0.5):\n",
    "    assert r is not None\n",
    "    assert v is not None\n",
    "    \n",
    "    E1 = (1-_lambda)*(\n",
    "        v[0] + proba*(r[0]+v[1]-v[0]) + (1-proba)*(r[1]+v[2]-v[0])\n",
    "    )\n",
    "    E2 = _lambda*(1-_lambda)*(\n",
    "        v[0] + proba*(r[0]+r[2]+v[3]-v[0]) + (1-proba)*(r[1]+r[3]+v[3]-v[0])\n",
    "    )\n",
    "    E3 = _lambda**2*(1-_lambda)*(\n",
    "        v[0] + proba*(r[0]+r[2]+r[4]+v[4]-v[0]) + (1-proba)*(r[1]+r[3]+r[4]+v[4]-v[0])\n",
    "    )\n",
    "    E4 = _lambda**3*(1-_lambda)*(\n",
    "        v[0] + proba*(r[0]+r[2]+r[4]+r[5]+v[5]-v[0]) + (1-proba)*(r[1]+r[3]+r[4]+r[5]+v[5]-v[0])\n",
    "    )\n",
    "    E5 = _lambda**4*(1-_lambda)*(\n",
    "        v[0] + proba*(r[0]+r[2]+r[4]+r[5]+r[6]+v[6]-v[0]) + (1-proba)*(r[1]+r[3]+r[4]+r[5]+r[6]+v[6]-v[0])\n",
    "    )\n",
    "    Einf = _lambda**5*(\n",
    "        v[0] + proba*(r[0]+r[2]+r[4]+r[5]+r[6]) + (1-proba)*(r[1]+r[3]+r[4]+r[5]+r[6])\n",
    "    )\n",
    "    \n",
    "    return E1 + E2 + E3 + E4 + E5 + Einf\n",
    "\n",
    "v = [0.0,16.8,0,24,17.3,-4.6,6.5]\n",
    "r = [3.2,0,-0.3,7.6,4.1,4.7,0.8]\n",
    "proba = 0.32\n",
    "\n",
    "val = cal_TDlambda(proba=proba, v=v, r=r, _lambda=1)\n",
    "solution = fsolve(lambda x: cal_TDlambda(proba=proba, v=v, r=r, _lambda=x) - val, np.linspace(0.1,1,10))\n",
    "\n",
    "solution = np.sort(solution)\n",
    "for s in solution:\n",
    "    if s>0 and s<1:\n",
    "        print(truncate(s,3))\n",
    "        break"
   ]
  }
 ],
 "metadata": {
  "kernelspec": {
   "display_name": "Python 3",
   "language": "python",
   "name": "python3"
  },
  "language_info": {
   "codemirror_mode": {
    "name": "ipython",
    "version": 3
   },
   "file_extension": ".py",
   "mimetype": "text/x-python",
   "name": "python",
   "nbconvert_exporter": "python",
   "pygments_lexer": "ipython3",
   "version": "3.6.5"
  },
  "toc": {
   "base_numbering": 1,
   "nav_menu": {},
   "number_sections": true,
   "sideBar": true,
   "skip_h1_title": false,
   "title_cell": "Table of Contents",
   "title_sidebar": "Contents",
   "toc_cell": false,
   "toc_position": {},
   "toc_section_display": true,
   "toc_window_display": false
  }
 },
 "nbformat": 4,
 "nbformat_minor": 2
}
