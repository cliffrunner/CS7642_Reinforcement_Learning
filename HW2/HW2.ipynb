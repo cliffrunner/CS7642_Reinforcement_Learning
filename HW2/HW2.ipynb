{
 "cells": [
  {
   "cell_type": "code",
   "execution_count": 92,
   "metadata": {},
   "outputs": [
    {
     "name": "stdout",
     "output_type": "stream",
     "text": [
      "0.562\n"
     ]
    }
   ],
   "source": [
    "import numpy as np\n",
    "import math\n",
    "from scipy.optimize import fsolve\n",
    "\n",
    "def truncate(f, n):\n",
    "    return math.floor(f * 10 ** n) / 10 ** n\n",
    "\n",
    "def cal_TDlambda(proba=0.5, r=None, v=None, _lambda=0.5):\n",
    "    assert r is not None\n",
    "    assert v is not None\n",
    "    \n",
    "    E1 = (1-_lambda)*(\n",
    "        v[0] + proba*(r[0]+v[1]-v[0]) + (1-proba)*(r[1]+v[2]-v[0])\n",
    "    )\n",
    "    E2 = _lambda*(1-_lambda)*(\n",
    "        v[0] + proba*(r[0]+r[2]+v[3]-v[0]) + (1-proba)*(r[1]+r[3]+v[3]-v[0])\n",
    "    )\n",
    "    E3 = _lambda**2*(1-_lambda)*(\n",
    "        v[0] + proba*(r[0]+r[2]+r[4]+v[4]-v[0]) + (1-proba)*(r[1]+r[3]+r[4]+v[4]-v[0])\n",
    "    )\n",
    "    E4 = _lambda**3*(1-_lambda)*(\n",
    "        v[0] + proba*(r[0]+r[2]+r[4]+r[5]+v[5]-v[0]) + (1-proba)*(r[1]+r[3]+r[4]+r[5]+v[5]-v[0])\n",
    "    )\n",
    "    E5 = _lambda**4*(1-_lambda)*(\n",
    "        v[0] + proba*(r[0]+r[2]+r[4]+r[5]+r[6]+v[6]-v[0]) + (1-proba)*(r[1]+r[3]+r[4]+r[5]+r[6]+v[6]-v[0])\n",
    "    )\n",
    "    Einf = _lambda**5*(\n",
    "        v[0] + proba*(r[0]+r[2]+r[4]+r[5]+r[6]) + (1-proba)*(r[1]+r[3]+r[4]+r[5]+r[6])\n",
    "    )\n",
    "    \n",
    "    return E1 + E2 + E3 + E4 + E5 + Einf\n",
    "\n",
    "v = [0.0,16.8,0,24,17.3,-4.6,6.5]\n",
    "r = [2.4,-1.9,-2.9,5.9,2.2,7.4,-4.3]\n",
    "proba = 0.39\n",
    "\n",
    "val = cal_TDlambda(proba=proba, v=v, r=r, _lambda=1)\n",
    "solution = fsolve(lambda x: cal_TDlambda(proba=proba, v=v, r=r, _lambda=x) - val, np.linspace(0.1,1,10))\n",
    "\n",
    "solution = np.sort(solution)\n",
    "for s in solution:\n",
    "    if s>0 and s<1:\n",
    "        print(truncate(s,3))\n",
    "        break"
   ]
  },
  {
   "cell_type": "code",
   "execution_count": 70,
   "metadata": {},
   "outputs": [
    {
     "data": {
      "text/plain": [
       "23.526"
      ]
     },
     "execution_count": 70,
     "metadata": {},
     "output_type": "execute_result"
    }
   ],
   "source": [
    "val"
   ]
  },
  {
   "cell_type": "code",
   "execution_count": 82,
   "metadata": {},
   "outputs": [
    {
     "data": {
      "text/plain": [
       "5.278207853874127"
      ]
     },
     "execution_count": 82,
     "metadata": {},
     "output_type": "execute_result"
    }
   ],
   "source": [
    "cal_TDlambda(proba=proba, v=v, r=r, _lambda=0.4956)"
   ]
  },
  {
   "cell_type": "code",
   "execution_count": 64,
   "metadata": {},
   "outputs": [],
   "source": [
    "def getTD1(probToState1, valueEstimates, rewards):\n",
    "    VS6 = 0\n",
    "    VS5 = VS6 + rewards[6]\n",
    "    VS4 = VS5 + rewards[5]\n",
    "    VS3 = VS4 + rewards[4]\n",
    "    \n",
    "    VS2 = VS3 + rewards[3]\n",
    "    VS1 = VS3 + rewards[2]\n",
    "    \n",
    "    VS0 = probToState1 * (VS1 + rewards[0]) + (1 - probToState1) * (VS2 + rewards[1])\n",
    "    \n",
    "    return VS0\n",
    "\n",
    "def getE1(probToState1, valueEstimates, rewards):\n",
    "    VS1 = valueEstimates[1]\n",
    "    VS2 = valueEstimates[2]\n",
    "    \n",
    "    VS0 = probToState1 * (VS1 + rewards[0]) + (1 - probToState1) * (VS2 + rewards[1])\n",
    "    \n",
    "    return VS0\n",
    "\n",
    "def getE2(probToState1, valueEstimates, rewards):\n",
    "    VS3 = valueEstimates[3]\n",
    "    VS1 = rewards[2] + VS3\n",
    "    VS2 = rewards[3] + VS3\n",
    "    \n",
    "    VS0 = probToState1 * (VS1 + rewards[0]) + (1 - probToState1) * (VS2 + rewards[1])\n",
    "    \n",
    "    return VS0\n",
    "\n",
    "def getE3(probToState1, valueEstimates, rewards):\n",
    "    VS4 = valueEstimates[4]\n",
    "    VS3 = rewards[4] + VS4\n",
    "    VS1 = rewards[2] + VS3\n",
    "    VS2 = rewards[3] + VS3\n",
    "    \n",
    "    VS0 = probToState1 * (VS1 + rewards[0]) + (1 - probToState1) * (VS2 + rewards[1])\n",
    "    \n",
    "    return VS0\n",
    "def getE4(probToState1, valueEstimates, rewards):\n",
    "    VS5 = valueEstimates[5]\n",
    "    VS4 = rewards[5] + VS5\n",
    "    VS3 = rewards[4] + VS4\n",
    "    VS1 = rewards[2] + VS3\n",
    "    VS2 = rewards[3] + VS3\n",
    "    \n",
    "    VS0 = probToState1 * (VS1 + rewards[0]) + (1 - probToState1) * (VS2 + rewards[1])\n",
    "    \n",
    "    return VS0\n",
    "def getE5(probToState1, valueEstimates, rewards):\n",
    "    VS6 = valueEstimates[6]\n",
    "    VS5 = rewards[6] + VS6\n",
    "    VS4 = rewards[5] + VS5\n",
    "    VS3 = rewards[4] + VS4\n",
    "    VS1 = rewards[2] + VS3\n",
    "    VS2 = rewards[3] + VS3\n",
    "    \n",
    "    VS0 = probToState1 * (VS1 + rewards[0]) + (1 - probToState1) * (VS2 + rewards[1])\n",
    "    \n",
    "    return VS0\n",
    "def getE6(probToState1, valueEstimates, rewards):\n",
    "    VS6 = 0 + 0 # no reward no value from \"S7\"\n",
    "    VS5 = rewards[6] + VS6\n",
    "    VS4 = rewards[5] + VS5\n",
    "    VS3 = rewards[4] + VS4\n",
    "    VS1 = rewards[2] + VS3\n",
    "    VS2 = rewards[3] + VS3\n",
    "    \n",
    "    VS0 = probToState1 * (VS1 + rewards[0]) + (1 - probToState1) * (VS2 + rewards[1])\n",
    "    \n",
    "    return VS0\n",
    "\n",
    "def getEstimators(probToState1, valueEstimates, rewards):\n",
    "    E1 = getE1(probToState1, valueEstimates, rewards)\n",
    "    E2 = getE2(probToState1, valueEstimates, rewards)\n",
    "    E3 = getE3(probToState1, valueEstimates, rewards)\n",
    "    E4 = getE4(probToState1, valueEstimates, rewards)\n",
    "    E5 = getE5(probToState1, valueEstimates, rewards)\n",
    "    E6 = getE6(probToState1, valueEstimates, rewards)\n",
    "    \n",
    "    print((E1, E2, E3, E4, E5, E6))\n",
    "    return (E1, E2, E3, E4, E5, E6)\n",
    "def findLambda(probToState1, valueEstimates, rewards):\n",
    "    E = getEstimators(probToState1, valueEstimates, rewards)\n",
    "\n",
    "    coeffs = [E[5] - E[4], E[4] - E[3], E[3] - E[2], E[2] - E[1], E[1] - E[0], E[0] - E[5]]\n",
    "\n",
    "    print(np.roots(coeffs))"
   ]
  },
  {
   "cell_type": "code",
   "execution_count": 65,
   "metadata": {},
   "outputs": [
    {
     "name": "stdout",
     "output_type": "stream",
     "text": [
      "(-1.0479999999999998, 28.326, 22.126, 14.325999999999999, 23.526, 11.225999999999999)\n",
      "[-1.16015001+0.j         0.20622303+1.3010633j  0.20622303-1.3010633j\n",
      "  1.        +0.j         0.49567142+0.j       ]\n"
     ]
    }
   ],
   "source": [
    "findLambda(proba, v, r)"
   ]
  }
 ],
 "metadata": {
  "kernelspec": {
   "display_name": "Python 3",
   "language": "python",
   "name": "python3"
  },
  "language_info": {
   "codemirror_mode": {
    "name": "ipython",
    "version": 3
   },
   "file_extension": ".py",
   "mimetype": "text/x-python",
   "name": "python",
   "nbconvert_exporter": "python",
   "pygments_lexer": "ipython3",
   "version": "3.6.5"
  },
  "toc": {
   "base_numbering": 1,
   "nav_menu": {},
   "number_sections": true,
   "sideBar": true,
   "skip_h1_title": false,
   "title_cell": "Table of Contents",
   "title_sidebar": "Contents",
   "toc_cell": false,
   "toc_position": {},
   "toc_section_display": true,
   "toc_window_display": false
  }
 },
 "nbformat": 4,
 "nbformat_minor": 2
}
