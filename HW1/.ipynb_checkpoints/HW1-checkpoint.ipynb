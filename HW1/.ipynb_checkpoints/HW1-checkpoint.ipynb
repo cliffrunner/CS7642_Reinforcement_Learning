{
 "cells": [
  {
   "cell_type": "code",
   "execution_count": 22,
   "metadata": {},
   "outputs": [
    {
     "name": "stdout",
     "output_type": "stream",
     "text": [
      "WARNING: check conditions of convergence. With no discount, convergence can not be assumed.\n"
     ]
    },
    {
     "data": {
      "text/plain": [
       "8.462"
      ]
     },
     "execution_count": 22,
     "metadata": {},
     "output_type": "execute_result"
    }
   ],
   "source": [
    "import mdptoolbox\n",
    "import numpy as np\n",
    "import math\n",
    "\n",
    "isBad = [0,0,1,0,0,0,1,0,1,0,0,1,0,0,0,0,0,0,1,1,1,1]\n",
    "# [0,1,0,1,1,1,1,0,0,1,0,1,0,0,1,0,1,0,1,1,1,0,0,0,1,0]\n",
    "prob = 1/len(isBad)\n",
    "rolls = 3\n",
    "nStates = rolls*len(isBad)+2\n",
    "\n",
    "isBad = np.array(isBad)\n",
    "isGood = -isBad + 1\n",
    "isGood = [i+1 for i,_ in enumerate(isGood) if _==1]\n",
    "isBad = [i+1 for i,_ in enumerate(isBad) if _==1]\n",
    "\n",
    "# calc all possible states\n",
    "allStates = isGood.copy()\n",
    "tmp = []\n",
    "for i in range(rolls-1):\n",
    "    for g1 in allStates:\n",
    "        for g2 in isGood:\n",
    "            tmp.append(g1+g2)\n",
    "    allStates += tmp\n",
    "allStates = list(set(allStates))\n",
    "allStates.append(0)\n",
    "\n",
    "# two actions are roll and quit\n",
    "TransMatrix = np.zeros((2,nStates,nStates))\n",
    "RewardMatrix = np.zeros((2,nStates,nStates))\n",
    "\n",
    "TransRoll = TransMatrix[0]\n",
    "TransQuit = TransMatrix[1]\n",
    "RewardRoll = RewardMatrix[0]\n",
    "RewardQuit = RewardMatrix[1]\n",
    "\n",
    "for i, trans_row in enumerate(TransRoll):\n",
    "    if i in allStates:\n",
    "        for j in list(range(i+1,len(trans_row))):\n",
    "            for good in isGood:\n",
    "                if good == j-i:\n",
    "                    RewardRoll[i,j] = good\n",
    "                    TransRoll[i,j] = prob\n",
    "\n",
    "        TransRoll[i,-1] = 1-sum(TransRoll[i,:-1])\n",
    "        if i>= np.min(isGood):\n",
    "            RewardRoll[i,-1] = -i\n",
    "    else:\n",
    "        TransRoll[i,-1] = 1\n",
    "    TransQuit[i,-1] = 1\n",
    "\n",
    "\n",
    "\n",
    "TransMatrix[0] = TransRoll\n",
    "TransMatrix[1] = TransQuit\n",
    "RewardMatrix[0] = RewardRoll\n",
    "RewardMatrix[1] = RewardQuit\n",
    "vi = mdptoolbox.mdp.ValueIteration(TransMatrix, RewardMatrix, 1)\n",
    "vi.run()\n",
    "# print(\"%.3f\"%np.max(vi.V))\n",
    "\n",
    "def truncate(f, n):\n",
    "    return math.floor(f * 10 ** n) / 10 ** n\n",
    "\n",
    "truncate(np.max(vi.V),3)"
   ]
  },
  {
   "cell_type": "code",
   "execution_count": 16,
   "metadata": {},
   "outputs": [
    {
     "data": {
      "text/plain": [
       "8.380402198672364"
      ]
     },
     "execution_count": 16,
     "metadata": {},
     "output_type": "execute_result"
    }
   ],
   "source": [
    "np.max(vi.V)"
   ]
  }
 ],
 "metadata": {
  "kernelspec": {
   "display_name": "Python 3",
   "language": "python",
   "name": "python3"
  },
  "language_info": {
   "codemirror_mode": {
    "name": "ipython",
    "version": 3
   },
   "file_extension": ".py",
   "mimetype": "text/x-python",
   "name": "python",
   "nbconvert_exporter": "python",
   "pygments_lexer": "ipython3",
   "version": "3.6.5"
  },
  "toc": {
   "base_numbering": 1,
   "nav_menu": {},
   "number_sections": true,
   "sideBar": true,
   "skip_h1_title": false,
   "title_cell": "Table of Contents",
   "title_sidebar": "Contents",
   "toc_cell": false,
   "toc_position": {},
   "toc_section_display": true,
   "toc_window_display": false
  }
 },
 "nbformat": 4,
 "nbformat_minor": 2
}
